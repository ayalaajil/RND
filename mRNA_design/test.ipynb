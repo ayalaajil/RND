{
 "cells": [
  {
   "cell_type": "code",
   "execution_count": 2,
   "id": "4c1b6ecc",
   "metadata": {},
   "outputs": [],
   "source": [
    "import torch\n",
    "from typing import Dict, List"
   ]
  },
  {
   "cell_type": "code",
   "execution_count": 3,
   "id": "fb19ed61",
   "metadata": {},
   "outputs": [],
   "source": [
    "CODON_TABLE : Dict[str, List[str]] = {\n",
    "    'A': ['GCU', 'GCC', 'GCA', 'GCG'],\n",
    "    'C': ['UGU', 'UGC'],\n",
    "    'D': ['GAU', 'GAC'],\n",
    "    'E': ['GAA', 'GAG'],\n",
    "    'F': ['UUU', 'UUC'],\n",
    "    'G': ['GGU', 'GGC', 'GGA', 'GGG'],\n",
    "    'H': ['CAU', 'CAC'],\n",
    "    'I': ['AUU', 'AUC', 'AUA'],\n",
    "    'K': ['AAA', 'AAG'],\n",
    "    'L': ['UUA', 'UUG', 'CUU', 'CUC', 'CUA', 'CUG'],\n",
    "    'M': ['AUG'],\n",
    "    'N': ['AAU', 'AAC'],\n",
    "    'P': ['CCU', 'CCC', 'CCA', 'CCG'],\n",
    "    'Q': ['CAA', 'CAG'],\n",
    "    'R': ['CGU', 'CGC', 'CGA', 'CGG', 'AGA', 'AGG'],\n",
    "    'S': ['UCU', 'UCC', 'UCA', 'UCG', 'AGU', 'AGC'],\n",
    "    'T': ['ACU', 'ACC', 'ACA', 'ACG'],\n",
    "    'V': ['GUU', 'GUC', 'GUA', 'GUG'],\n",
    "    'W': ['UGG'],\n",
    "    'Y': ['UAU', 'UAC'],\n",
    "    '*': ['UAA', 'UAG', 'UGA'],  # Stop codons\n",
    "}\n",
    "\n",
    "# Dictionary ambiguous amino acids to standard amino acids\n",
    "AMBIGUOUS_AMINOACID_MAP: Dict[str, list[str]] = {\n",
    "    \"B\": [\"N\", \"D\"],  # Asparagine (N) or Aspartic acid (D)\n",
    "    \"Z\": [\"Q\", \"E\"],  # Glutamine (Q) or Glutamic acid (E)\n",
    "    \"X\": [\"A\"],  # Any amino acid (typically replaced with Alanine)\n",
    "    \"J\": [\"L\", \"I\"],  # Leucine (L) or Isoleucine (I)\n",
    "    \"U\": [\"C\"],  # Selenocysteine (typically replaced with Cysteine)\n",
    "    \"O\": [\"K\"],  # Pyrrolysine (typically replaced with Lysine)\n",
    "}\n",
    "\n",
    "AA_LIST = list(CODON_TABLE.keys())"
   ]
  },
  {
   "cell_type": "code",
   "execution_count": null,
   "id": "ee081c31",
   "metadata": {},
   "outputs": [],
   "source": [
    "def protein_to_tensor(protein):\n",
    "\n",
    "    amino_acid_counts = [0] * len(protein)\n",
    "\n",
    "    if protein is None or protein == '':\n",
    "        return torch.tensor(amino_acid_counts, dtype=torch.float)\n",
    "    \n",
    "    for amino_acid in protein:\n",
    "        if amino_acid in AA_LIST:\n",
    "            idx = AA_LIST.index(amino_acid)\n",
    "            amino_acid_counts[idx] += 1\n",
    "\n",
    "    return torch.tensor(amino_acid_counts, dtype=torch.float)"
   ]
  },
  {
   "cell_type": "code",
   "execution_count": 9,
   "id": "55736c32",
   "metadata": {},
   "outputs": [],
   "source": [
    "protein = 'MALWMRLLPLLALLALWGPDPAAAFVNQHLCGSHLVEALYLVCGERGFFYTPKTRREAEDLQVGQVELGG'"
   ]
  },
  {
   "cell_type": "code",
   "execution_count": 10,
   "id": "b612b85a",
   "metadata": {},
   "outputs": [
    {
     "data": {
      "text/plain": [
       "tensor([ 8.,  2.,  2.,  5.,  3.,  7.,  2.,  0.,  1., 14.,  2.,  1.,  4.,  3.,\n",
       "         4.,  1.,  2.,  5.,  2.,  2.,  0.,  0.,  0.,  0.,  0.,  0.,  0.,  0.,\n",
       "         0.,  0.,  0.,  0.,  0.,  0.,  0.,  0.,  0.,  0.,  0.,  0.,  0.,  0.,\n",
       "         0.,  0.,  0.,  0.,  0.,  0.,  0.,  0.,  0.,  0.,  0.,  0.,  0.,  0.,\n",
       "         0.,  0.,  0.,  0.,  0.,  0.,  0.,  0.,  0.,  0.,  0.,  0.,  0.,  0.])"
      ]
     },
     "execution_count": 10,
     "metadata": {},
     "output_type": "execute_result"
    }
   ],
   "source": [
    "t = protein_to_tensor(protein)\n",
    "t"
   ]
  },
  {
   "cell_type": "code",
   "execution_count": 12,
   "id": "f8dbf657",
   "metadata": {},
   "outputs": [
    {
     "data": {
      "text/plain": [
       "70"
      ]
     },
     "execution_count": 12,
     "metadata": {},
     "output_type": "execute_result"
    }
   ],
   "source": [
    "len(protein)"
   ]
  },
  {
   "cell_type": "code",
   "execution_count": 13,
   "id": "90fb7291",
   "metadata": {},
   "outputs": [],
   "source": [
    "amino_acid_counts = [0] * len(protein)\n",
    "\n",
    "for amino_acid in protein:\n",
    "    if amino_acid in AA_LIST:\n",
    "        idx = AA_LIST.index(amino_acid)\n",
    "        amino_acid_counts[idx] += 1"
   ]
  },
  {
   "cell_type": "code",
   "execution_count": 13,
   "id": "f150134c",
   "metadata": {},
   "outputs": [],
   "source": [
    "import torch\n",
    "device = torch.device(\"cpu\")"
   ]
  },
  {
   "cell_type": "code",
   "execution_count": 14,
   "id": "cd988270",
   "metadata": {},
   "outputs": [],
   "source": [
    "s0 = torch.zeros(0, dtype=torch.long, device=device)  # Use torch.long for integer indices\n",
    "\n",
    "# Mapping from codons to indices\n",
    "codon_to_index = {\"AUG\": 0, \"UAA\": 1, \"UAG\": 2}  # Example mapping, extend as needed\n",
    "\n",
    "def step(state, action):\n",
    "    # Convert the codon to its corresponding index\n",
    "    action_index = torch.tensor([codon_to_index[action]], dtype=torch.long, device=device)\n",
    "    # Append the chosen codon index to the mRNA sequence\n",
    "    return torch.cat([state, action_index.unsqueeze(-1)], dim=-1)"
   ]
  },
  {
   "cell_type": "code",
   "execution_count": 17,
   "id": "569bf59e",
   "metadata": {},
   "outputs": [
    {
     "data": {
      "text/plain": [
       "tensor([[0, 1, 2]])"
      ]
     },
     "execution_count": 17,
     "metadata": {},
     "output_type": "execute_result"
    }
   ],
   "source": [
    "actions = [\"AUG\", \"UAA\", \"UAG\"]\n",
    "\n",
    "state1 = step(s0, actions[0])\n",
    "state2 = step(state1, actions[1])\n",
    "state3 = step(state2, actions[2])\n",
    "\n",
    "state3"
   ]
  },
  {
   "cell_type": "code",
   "execution_count": 23,
   "id": "6172ec42",
   "metadata": {},
   "outputs": [
    {
     "data": {
      "text/plain": [
       "0"
      ]
     },
     "execution_count": 23,
     "metadata": {},
     "output_type": "execute_result"
    }
   ],
   "source": [
    "len(s0)"
   ]
  },
  {
   "cell_type": "code",
   "execution_count": 19,
   "id": "60aeea93",
   "metadata": {},
   "outputs": [],
   "source": [
    "from typing import Dict, List"
   ]
  },
  {
   "cell_type": "code",
   "execution_count": 20,
   "id": "8c6afc74",
   "metadata": {},
   "outputs": [],
   "source": [
    "CODON_TABLE : Dict[str, List[str]] = {\n",
    "    'A': ['GCU', 'GCC', 'GCA', 'GCG'],\n",
    "    'C': ['UGU', 'UGC'],\n",
    "    'D': ['GAU', 'GAC'],\n",
    "    'E': ['GAA', 'GAG'],\n",
    "    'F': ['UUU', 'UUC'],\n",
    "    'G': ['GGU', 'GGC', 'GGA', 'GGG'],\n",
    "    'H': ['CAU', 'CAC'],\n",
    "    'I': ['AUU', 'AUC', 'AUA'],\n",
    "    'K': ['AAA', 'AAG'],\n",
    "    'L': ['UUA', 'UUG', 'CUU', 'CUC', 'CUA', 'CUG'],\n",
    "    'M': ['AUG'],\n",
    "    'N': ['AAU', 'AAC'],\n",
    "    'P': ['CCU', 'CCC', 'CCA', 'CCG'],\n",
    "    'Q': ['CAA', 'CAG'],\n",
    "    'R': ['CGU', 'CGC', 'CGA', 'CGG', 'AGA', 'AGG'],\n",
    "    'S': ['UCU', 'UCC', 'UCA', 'UCG', 'AGU', 'AGC'],\n",
    "    'T': ['ACU', 'ACC', 'ACA', 'ACG'],\n",
    "    'V': ['GUU', 'GUC', 'GUA', 'GUG'],\n",
    "    'W': ['UGG'],\n",
    "    'Y': ['UAU', 'UAC'],\n",
    "    '*': ['UAA', 'UAG', 'UGA'],  # Stop codons\n",
    "}\n",
    "\n",
    "# Dictionary ambiguous amino acids to standard amino acids\n",
    "AMBIGUOUS_AMINOACID_MAP: Dict[str, list[str]] = {\n",
    "    \"B\": [\"N\", \"D\"],  # Asparagine (N) or Aspartic acid (D)\n",
    "    \"Z\": [\"Q\", \"E\"],  # Glutamine (Q) or Glutamic acid (E)\n",
    "    \"X\": [\"A\"],  # Any amino acid (typically replaced with Alanine)\n",
    "    \"J\": [\"L\", \"I\"],  # Leucine (L) or Isoleucine (I)\n",
    "    \"U\": [\"C\"],  # Selenocysteine (typically replaced with Cysteine)\n",
    "    \"O\": [\"K\"],  # Pyrrolysine (typically replaced with Lysine)\n",
    "}\n",
    "\n",
    "\n",
    "AA_LIST = list(CODON_TABLE.keys())\n",
    "AMBIG_AA_LIST = list(AMBIGUOUS_AMINOACID_MAP.keys())\n",
    "\n",
    "CODON_MAP = {codon: i for i, codon in enumerate(sorted(set(c for codons in CODON_TABLE.values() for c in codons)))}"
   ]
  },
  {
   "cell_type": "code",
   "execution_count": 21,
   "id": "3731bf98",
   "metadata": {},
   "outputs": [
    {
     "data": {
      "text/plain": [
       "{'AAA': 0,\n",
       " 'AAC': 1,\n",
       " 'AAG': 2,\n",
       " 'AAU': 3,\n",
       " 'ACA': 4,\n",
       " 'ACC': 5,\n",
       " 'ACG': 6,\n",
       " 'ACU': 7,\n",
       " 'AGA': 8,\n",
       " 'AGC': 9,\n",
       " 'AGG': 10,\n",
       " 'AGU': 11,\n",
       " 'AUA': 12,\n",
       " 'AUC': 13,\n",
       " 'AUG': 14,\n",
       " 'AUU': 15,\n",
       " 'CAA': 16,\n",
       " 'CAC': 17,\n",
       " 'CAG': 18,\n",
       " 'CAU': 19,\n",
       " 'CCA': 20,\n",
       " 'CCC': 21,\n",
       " 'CCG': 22,\n",
       " 'CCU': 23,\n",
       " 'CGA': 24,\n",
       " 'CGC': 25,\n",
       " 'CGG': 26,\n",
       " 'CGU': 27,\n",
       " 'CUA': 28,\n",
       " 'CUC': 29,\n",
       " 'CUG': 30,\n",
       " 'CUU': 31,\n",
       " 'GAA': 32,\n",
       " 'GAC': 33,\n",
       " 'GAG': 34,\n",
       " 'GAU': 35,\n",
       " 'GCA': 36,\n",
       " 'GCC': 37,\n",
       " 'GCG': 38,\n",
       " 'GCU': 39,\n",
       " 'GGA': 40,\n",
       " 'GGC': 41,\n",
       " 'GGG': 42,\n",
       " 'GGU': 43,\n",
       " 'GUA': 44,\n",
       " 'GUC': 45,\n",
       " 'GUG': 46,\n",
       " 'GUU': 47,\n",
       " 'UAA': 48,\n",
       " 'UAC': 49,\n",
       " 'UAG': 50,\n",
       " 'UAU': 51,\n",
       " 'UCA': 52,\n",
       " 'UCC': 53,\n",
       " 'UCG': 54,\n",
       " 'UCU': 55,\n",
       " 'UGA': 56,\n",
       " 'UGC': 57,\n",
       " 'UGG': 58,\n",
       " 'UGU': 59,\n",
       " 'UUA': 60,\n",
       " 'UUC': 61,\n",
       " 'UUG': 62,\n",
       " 'UUU': 63}"
      ]
     },
     "execution_count": 21,
     "metadata": {},
     "output_type": "execute_result"
    }
   ],
   "source": [
    "CODON_MAP"
   ]
  },
  {
   "cell_type": "code",
   "execution_count": null,
   "id": "f6175b04",
   "metadata": {},
   "outputs": [],
   "source": [
    "import torch\n",
    "from typing import List, Dict, Union\n",
    "from torchgfn.env import DiscreteEnv\n",
    "\n",
    "# Amino acids and codon tables\n",
    "AMINO_ACIDS: List[str] = [\n",
    "    \"A\", \"C\", \"D\", \"E\", \"F\", \"G\", \"H\", \"I\", \"K\", \"L\",\n",
    "    \"M\", \"N\", \"P\", \"Q\", \"R\", \"S\", \"T\", \"V\", \"W\", \"Y\"\n",
    "]\n",
    "\n",
    "CODON_TABLE: Dict[str, List[str]] = {\n",
    "    'A': ['GCU', 'GCC', 'GCA', 'GCG'],\n",
    "    'C': ['UGU', 'UGC'],\n",
    "    'D': ['GAU', 'GAC'],\n",
    "    'E': ['GAA', 'GAG'],\n",
    "    'F': ['UUU', 'UUC'],\n",
    "    'G': ['GGU', 'GGC', 'GGA', 'GGG'],\n",
    "    'H': ['CAU', 'CAC'],\n",
    "    'I': ['AUU', 'AUC', 'AUA'],\n",
    "    'K': ['AAA', 'AAG'],\n",
    "    'L': ['UUA', 'UUG', 'CUU', 'CUC', 'CUA', 'CUG'],\n",
    "    'M': ['AUG'],\n",
    "    'N': ['AAU', 'AAC'],\n",
    "    'P': ['CCU', 'CCC', 'CCA', 'CCG'],\n",
    "    'Q': ['CAA', 'CAG'],\n",
    "    'R': ['CGU', 'CGC', 'CGA', 'CGG', 'AGA', 'AGG'],\n",
    "    'S': ['UCU', 'UCC', 'UCA', 'UCG', 'AGU', 'AGC'],\n",
    "    'T': ['ACU', 'ACC', 'ACA', 'ACG'],\n",
    "    'V': ['GUU', 'GUC', 'GUA', 'GUG'],\n",
    "    'W': ['UGG'],\n",
    "    'Y': ['UAU', 'UAC'],\n",
    "    '*': ['UAA', 'UAG', 'UGA'],  # Stop codons\n",
    "}\n",
    "\n",
    "# Flatten and index all codons\n",
    "ALL_CODONS = sorted({codon for codons in CODON_TABLE.values() for codon in codons})\n",
    "CODON_TO_IDX = {codon: idx for idx, codon in enumerate(ALL_CODONS)}\n",
    "IDX_TO_CODON = {idx: codon for codon, idx in CODON_TO_IDX.items()}\n",
    "\n",
    "\n",
    "def get_synonymous_indices(amino_acid: str) -> List[int]:\n",
    "    \"\"\"\n",
    "    Return the list of global codon indices that encode the given amino acid.\n",
    "    \"\"\"\n",
    "    codons = CODON_TABLE.get(amino_acid, [])\n",
    "    return [CODON_TO_IDX[c] for c in codons]\n",
    "\n",
    "\n",
    "def compute_gc_content_from_indices(indices: torch.LongTensor) -> torch.FloatTensor:\n",
    "    \"\"\"\n",
    "    Given a tensor of codon indices (batch x seq_len), compute GC-content (%) per sequence.\n",
    "    \"\"\"\n",
    "    # Map indices to codon strings\n",
    "    batch, seq_len = indices.shape\n",
    "    # Expand to list of strings\n",
    "    contents = []\n",
    "    for seq in indices:\n",
    "        rna = ''.join(IDX_TO_CODON[int(i)] for i in seq)\n",
    "        gc = (rna.count('G') + rna.count('C')) / len(rna) * 100 if len(rna) > 0 else 0.0\n",
    "        contents.append(gc)\n",
    "    return torch.tensor(contents, dtype=torch.float, device=indices.device)\n",
    "\n",
    "\n",
    "class CodonDesignEnv(DiscreteEnv):\n",
    "    \"\"\"\n",
    "    Environment for designing mRNA codon sequences for a given protein.\n",
    "    States are LongTensors of shape (batch, t) representing chosen codon indices.\n",
    "    Action space is global codon set of size len(ALL_CODONS);\n",
    "    dynamic masks restrict to synonymous codons at each step.\n",
    "    Rewards are GC-content of the full sequence so far.\n",
    "    \"\"\"\n",
    "\n",
    "    def __init__(\n",
    "        self,\n",
    "        protein_seq: str,\n",
    "        discount_factor: float = 1.0,\n",
    "    ):\n",
    "        self.protein_seq = protein_seq\n",
    "        self.seq_length = len(protein_seq)\n",
    "        self.n_actions = len(ALL_CODONS)\n",
    "        self.device = torch.device('cpu')\n",
    "\n",
    "        # Precompute valid indices per position\n",
    "        self.syn_indices = [get_synonymous_indices(aa) for aa in protein_seq]\n",
    "\n",
    "        # Initial empty state\n",
    "        initial_state = torch.empty((0,), dtype=torch.long, device=self.device)\n",
    "\n",
    "        super().__init__(\n",
    "            n_actions=self.n_actions,\n",
    "            initial_state=initial_state,\n",
    "            state_shape=(None,),         # variable-length\n",
    "            action_shape=(),             # scalar action\n",
    "            dummy_action=None,\n",
    "            exit_action=None,\n",
    "            discount_factor=discount_factor,\n",
    "        )\n",
    "\n",
    "    def step(\n",
    "        self,\n",
    "        states: torch.LongTensor,\n",
    "        actions: torch.LongTensor,\n",
    "    ) -> torch.LongTensor:\n",
    "        # Append action indices to states\n",
    "        # states: (batch, t), actions: (batch,)\n",
    "        actions = actions.unsqueeze(-1)\n",
    "        return torch.cat([states, actions], dim=1)\n",
    "\n",
    "    def backward_step(\n",
    "        self,\n",
    "        states: torch.LongTensor,\n",
    "    ) -> torch.LongTensor:\n",
    "        # Remove last codon index\n",
    "        return states[:, :-1]\n",
    "\n",
    "    def update_masks(\n",
    "        self,\n",
    "        states: torch.LongTensor,\n",
    "    ) -> torch.BoolTensor:\n",
    "        # For each sequence in batch, mask only synonymous codons for next aa.\n",
    "        batch = states.shape[0]\n",
    "        next_pos = states.shape[1]\n",
    "        if next_pos >= self.seq_length:\n",
    "            # No valid actions beyond terminal\n",
    "            return torch.zeros((batch, self.n_actions), dtype=torch.bool, device=self.device)\n",
    "        valid = torch.zeros((batch, self.n_actions), dtype=torch.bool, device=self.device)\n",
    "        valid_indices = self.syn_indices[next_pos]\n",
    "        valid[:, valid_indices] = True\n",
    "        return valid\n",
    "\n",
    "    def reward(\n",
    "        self,\n",
    "        states: torch.LongTensor,\n",
    "    ) -> torch.FloatTensor:\n",
    "        # Compute GC-content percentage of each sequence\n",
    "        return compute_gc_content_from_indices(states)\n",
    "\n",
    "    def reset(self, batch_size: int) -> torch.LongTensor:\n",
    "        # Return batch of empty sequences\n",
    "        return torch.empty((batch_size, 0), dtype=torch.long, device=self.device)\n",
    "\n",
    "    def is_terminal(\n",
    "        self,\n",
    "        states: torch.LongTensor,\n",
    "    ) -> torch.BoolTensor:\n",
    "        # Terminal when sequence length equals protein length\n",
    "        return states.shape[1] >= self.seq_length\n"
   ]
  }
 ],
 "metadata": {
  "kernelspec": {
   "display_name": "mRNA_env",
   "language": "python",
   "name": "python3"
  },
  "language_info": {
   "codemirror_mode": {
    "name": "ipython",
    "version": 3
   },
   "file_extension": ".py",
   "mimetype": "text/x-python",
   "name": "python",
   "nbconvert_exporter": "python",
   "pygments_lexer": "ipython3",
   "version": "3.10.16"
  }
 },
 "nbformat": 4,
 "nbformat_minor": 5
}
