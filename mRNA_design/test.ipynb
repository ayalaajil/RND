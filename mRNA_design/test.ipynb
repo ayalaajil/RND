{
 "cells": [
  {
   "cell_type": "code",
   "execution_count": 2,
   "id": "4c1b6ecc",
   "metadata": {},
   "outputs": [],
   "source": [
    "import torch\n",
    "from typing import Dict, List"
   ]
  },
  {
   "cell_type": "code",
   "execution_count": 3,
   "id": "fb19ed61",
   "metadata": {},
   "outputs": [],
   "source": [
    "CODON_TABLE : Dict[str, List[str]] = {\n",
    "    'A': ['GCU', 'GCC', 'GCA', 'GCG'],\n",
    "    'C': ['UGU', 'UGC'],\n",
    "    'D': ['GAU', 'GAC'],\n",
    "    'E': ['GAA', 'GAG'],\n",
    "    'F': ['UUU', 'UUC'],\n",
    "    'G': ['GGU', 'GGC', 'GGA', 'GGG'],\n",
    "    'H': ['CAU', 'CAC'],\n",
    "    'I': ['AUU', 'AUC', 'AUA'],\n",
    "    'K': ['AAA', 'AAG'],\n",
    "    'L': ['UUA', 'UUG', 'CUU', 'CUC', 'CUA', 'CUG'],\n",
    "    'M': ['AUG'],\n",
    "    'N': ['AAU', 'AAC'],\n",
    "    'P': ['CCU', 'CCC', 'CCA', 'CCG'],\n",
    "    'Q': ['CAA', 'CAG'],\n",
    "    'R': ['CGU', 'CGC', 'CGA', 'CGG', 'AGA', 'AGG'],\n",
    "    'S': ['UCU', 'UCC', 'UCA', 'UCG', 'AGU', 'AGC'],\n",
    "    'T': ['ACU', 'ACC', 'ACA', 'ACG'],\n",
    "    'V': ['GUU', 'GUC', 'GUA', 'GUG'],\n",
    "    'W': ['UGG'],\n",
    "    'Y': ['UAU', 'UAC'],\n",
    "    '*': ['UAA', 'UAG', 'UGA'],  # Stop codons\n",
    "}\n",
    "\n",
    "# Dictionary ambiguous amino acids to standard amino acids\n",
    "AMBIGUOUS_AMINOACID_MAP: Dict[str, list[str]] = {\n",
    "    \"B\": [\"N\", \"D\"],  # Asparagine (N) or Aspartic acid (D)\n",
    "    \"Z\": [\"Q\", \"E\"],  # Glutamine (Q) or Glutamic acid (E)\n",
    "    \"X\": [\"A\"],  # Any amino acid (typically replaced with Alanine)\n",
    "    \"J\": [\"L\", \"I\"],  # Leucine (L) or Isoleucine (I)\n",
    "    \"U\": [\"C\"],  # Selenocysteine (typically replaced with Cysteine)\n",
    "    \"O\": [\"K\"],  # Pyrrolysine (typically replaced with Lysine)\n",
    "}\n",
    "\n",
    "AA_LIST = list(CODON_TABLE.keys())"
   ]
  },
  {
   "cell_type": "code",
   "execution_count": null,
   "id": "ee081c31",
   "metadata": {},
   "outputs": [],
   "source": [
    "def protein_to_tensor(protein):\n",
    "\n",
    "    amino_acid_counts = [0] * len(protein)\n",
    "\n",
    "    if protein is None or protein == '':\n",
    "        return torch.tensor(amino_acid_counts, dtype=torch.float)\n",
    "    \n",
    "    for amino_acid in protein:\n",
    "        if amino_acid in AA_LIST:\n",
    "            idx = AA_LIST.index(amino_acid)\n",
    "            amino_acid_counts[idx] += 1\n",
    "\n",
    "    return torch.tensor(amino_acid_counts, dtype=torch.float)"
   ]
  },
  {
   "cell_type": "code",
   "execution_count": 9,
   "id": "55736c32",
   "metadata": {},
   "outputs": [],
   "source": [
    "protein = 'MALWMRLLPLLALLALWGPDPAAAFVNQHLCGSHLVEALYLVCGERGFFYTPKTRREAEDLQVGQVELGG'"
   ]
  },
  {
   "cell_type": "code",
   "execution_count": 10,
   "id": "b612b85a",
   "metadata": {},
   "outputs": [
    {
     "data": {
      "text/plain": [
       "tensor([ 8.,  2.,  2.,  5.,  3.,  7.,  2.,  0.,  1., 14.,  2.,  1.,  4.,  3.,\n",
       "         4.,  1.,  2.,  5.,  2.,  2.,  0.,  0.,  0.,  0.,  0.,  0.,  0.,  0.,\n",
       "         0.,  0.,  0.,  0.,  0.,  0.,  0.,  0.,  0.,  0.,  0.,  0.,  0.,  0.,\n",
       "         0.,  0.,  0.,  0.,  0.,  0.,  0.,  0.,  0.,  0.,  0.,  0.,  0.,  0.,\n",
       "         0.,  0.,  0.,  0.,  0.,  0.,  0.,  0.,  0.,  0.,  0.,  0.,  0.,  0.])"
      ]
     },
     "execution_count": 10,
     "metadata": {},
     "output_type": "execute_result"
    }
   ],
   "source": [
    "t = protein_to_tensor(protein)\n",
    "t"
   ]
  },
  {
   "cell_type": "code",
   "execution_count": 12,
   "id": "f8dbf657",
   "metadata": {},
   "outputs": [
    {
     "data": {
      "text/plain": [
       "70"
      ]
     },
     "execution_count": 12,
     "metadata": {},
     "output_type": "execute_result"
    }
   ],
   "source": [
    "len(protein)"
   ]
  },
  {
   "cell_type": "code",
   "execution_count": 13,
   "id": "90fb7291",
   "metadata": {},
   "outputs": [],
   "source": [
    "amino_acid_counts = [0] * len(protein)\n",
    "\n",
    "for amino_acid in protein:\n",
    "    if amino_acid in AA_LIST:\n",
    "        idx = AA_LIST.index(amino_acid)\n",
    "        amino_acid_counts[idx] += 1"
   ]
  },
  {
   "cell_type": "code",
   "execution_count": null,
   "id": "f150134c",
   "metadata": {},
   "outputs": [],
   "source": []
  }
 ],
 "metadata": {
  "kernelspec": {
   "display_name": "mRNA_env",
   "language": "python",
   "name": "python3"
  },
  "language_info": {
   "codemirror_mode": {
    "name": "ipython",
    "version": 3
   },
   "file_extension": ".py",
   "mimetype": "text/x-python",
   "name": "python",
   "nbconvert_exporter": "python",
   "pygments_lexer": "ipython3",
   "version": "3.10.16"
  }
 },
 "nbformat": 4,
 "nbformat_minor": 5
}
